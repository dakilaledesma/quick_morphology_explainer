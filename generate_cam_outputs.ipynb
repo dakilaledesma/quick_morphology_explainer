{
 "cells": [
  {
   "cell_type": "code",
   "execution_count": 1,
   "id": "d8c8598c",
   "metadata": {},
   "outputs": [],
   "source": [
    "from pytorch_grad_cam import GradCAM, ScoreCAM, GradCAMPlusPlus, AblationCAM, XGradCAM, EigenCAM, FullGrad\n",
    "from pytorch_grad_cam.utils.model_targets import ClassifierOutputTarget\n",
    "from pytorch_grad_cam.utils.image import show_cam_on_image\n",
    "\n",
    "import matplotlib.pyplot as plt\n",
    "from PIL import Image\n",
    "import torch.nn as nn\n",
    "import numpy as np\n",
    "import os, json\n",
    "from glob import glob\n",
    "from tqdm.notebook import tqdm\n",
    "\n",
    "import torch\n",
    "from torchvision import models, transforms\n",
    "from torch.autograd import Variable\n",
    "import torch.nn.functional as F\n",
    "\n",
    "import timm"
   ]
  },
  {
   "cell_type": "code",
   "execution_count": 2,
   "id": "b726ac8b",
   "metadata": {},
   "outputs": [],
   "source": [
    "def get_input_transform():\n",
    "    normalize = transforms.Normalize(mean=[0.485, 0.456, 0.406],\n",
    "                                    std=[0.229, 0.224, 0.225])       \n",
    "    transf = transforms.Compose([\n",
    "        transforms.Resize((600, 600)),\n",
    "        transforms.CenterCrop(600),\n",
    "        transforms.ToTensor(),\n",
    "        normalize\n",
    "    ])    \n",
    "\n",
    "    return transf\n",
    "\n",
    "def get_input_tensors(img):\n",
    "    transf = get_input_transform()\n",
    "    return transf(img).unsqueeze(0)\n",
    "\n",
    "\n",
    "def reshape_transform(tensor, height=42, width=42):\n",
    "#     print(tensor.size())\n",
    "    result = tensor.reshape(tensor.size(0),\n",
    "        height, width, tensor.size(3))\n",
    "\n",
    "    # Bring the channels to the first dimension,\n",
    "    # like in CNNs.\n",
    "    result = result.transpose(2, 3).transpose(1, 2)\n",
    "    return result"
   ]
  },
  {
   "cell_type": "code",
   "execution_count": null,
   "id": "a4508436",
   "metadata": {},
   "outputs": [],
   "source": [
    "ckpt_fn = \"models/20220703-182810-resnet50-224/last.pth.tar\"\n",
    "im_path = \"data/orig_o\"\n",
    "out_path = \"o_o\"\n",
    "model_type = \"resnet50\"\n",
    "\n",
    "fl_dict = {}\n",
    "for idx, fl in enumerate(glob(f\"{im_path}/*\")):\n",
    "    bn = os.path.basename(fl)\n",
    "    fl_dict[bn] = idx\n",
    "    \n",
    "images = []\n",
    "for im_fn in glob(f\"{im_path}/**/*.*\", recursive=True):\n",
    "    bn = os.path.basename(im_fn)\n",
    "    images.append(im_fn)\n",
    "    \n",
    "print(len(images))"
   ]
  },
  {
   "cell_type": "code",
   "execution_count": null,
   "id": "552e280d",
   "metadata": {},
   "outputs": [],
   "source": [
    "ckpt_fn = \"models/resolution/20220718-180603-tresnet_m_448-224/last.pth.tar\"\n",
    "im_path = \"data/orig_o\"\n",
    "out_path = \"resolution/224\"\n",
    "model_type = \"tresnet_m_448\"\n",
    "\n",
    "fl_dict = {}\n",
    "for idx, fl in enumerate(glob(f\"{im_path}/*\")):\n",
    "    bn = os.path.basename(fl)\n",
    "    fl_dict[bn] = idx\n",
    "    \n",
    "images = []\n",
    "for im_fn in glob(f\"{im_path}/**/*.*\", recursive=True):\n",
    "    bn = os.path.basename(im_fn)\n",
    "    images.append(im_fn)\n",
    "    \n",
    "print(len(images))"
   ]
  },
  {
   "cell_type": "code",
   "execution_count": null,
   "id": "4e5d7780",
   "metadata": {},
   "outputs": [],
   "source": [
    "ckpt_fn = \"models/resolution/20220718-180733-tresnet_m_448-600/last.pth.tar\"\n",
    "im_path = \"data/orig_o\"\n",
    "out_path = \"resolution/600\"\n",
    "model_type = \"tresnet_m_448\"\n",
    "\n",
    "fl_dict = {}\n",
    "for idx, fl in enumerate(glob(f\"{im_path}/*\")):\n",
    "    bn = os.path.basename(fl)\n",
    "    fl_dict[bn] = idx\n",
    "    \n",
    "images = []\n",
    "for im_fn in glob(f\"{im_path}/**/*.*\", recursive=True):\n",
    "    bn = os.path.basename(im_fn)\n",
    "    images.append(im_fn)\n",
    "    \n",
    "print(len(images))"
   ]
  },
  {
   "cell_type": "code",
   "execution_count": 3,
   "id": "ab214b76",
   "metadata": {},
   "outputs": [
    {
     "name": "stdout",
     "output_type": "stream",
     "text": [
      "4577\n"
     ]
    }
   ],
   "source": [
    "ckpt_fn = \"models/resolution/20220722-163041-sequencer2d_l-600/last.pth.tar\"\n",
    "im_path = \"data/orig_o\"\n",
    "out_path = \"resolution/600_s2d\"\n",
    "model_type = \"sequencer2d_l\"\n",
    "\n",
    "fl_dict = {}\n",
    "for idx, fl in enumerate(glob(f\"{im_path}/*\")):\n",
    "    bn = os.path.basename(fl)\n",
    "    fl_dict[bn] = idx\n",
    "    \n",
    "images = []\n",
    "for im_fn in glob(f\"{im_path}/**/*.*\", recursive=True):\n",
    "    bn = os.path.basename(im_fn)\n",
    "    images.append(im_fn)\n",
    "    \n",
    "print(len(images))"
   ]
  },
  {
   "cell_type": "code",
   "execution_count": 6,
   "id": "d6fdc62b",
   "metadata": {},
   "outputs": [
    {
     "name": "stdout",
     "output_type": "stream",
     "text": [
      "[LayerNorm((384,), eps=1e-06, elementwise_affine=True)]\n"
     ]
    }
   ],
   "source": [
    "model = timm.create_model(\n",
    "        model_type,\n",
    "        num_classes=300,\n",
    "        in_chans=3,\n",
    "        checkpoint_path=ckpt_fn)\n",
    "\n",
    "if model_type == \"tresnet_m_448\":\n",
    "    target_layers = model.body.layer4[-1]\n",
    "elif model_type == \"resnet50\":\n",
    "    target_layers = model.layer4[-1]\n",
    "elif model_type == \"sequencer2d_l\":\n",
    "    target_layers = [model.blocks[-1][-1]._modules[\"norm2\"]]\n",
    "    \n",
    "print(target_layers)"
   ]
  },
  {
   "cell_type": "code",
   "execution_count": null,
   "id": "c91666ea",
   "metadata": {},
   "outputs": [],
   "source": [
    "print(model)"
   ]
  },
  {
   "cell_type": "code",
   "execution_count": null,
   "id": "b6ce346e",
   "metadata": {},
   "outputs": [
    {
     "data": {
      "application/vnd.jupyter.widget-view+json": {
       "model_id": "d0a0ae42406b42009ece8636f1c9a0b8",
       "version_major": 2,
       "version_minor": 0
      },
      "text/plain": [
       "  0%|          | 0/4577 [00:00<?, ?it/s]"
      ]
     },
     "metadata": {},
     "output_type": "display_data"
    }
   ],
   "source": [
    "'''GradCAM, ScoreCAM, GradCAMPlusPlus, AblationCAM, XGradCAM, EigenCAM, FullGrad'''\n",
    "for im_fn in tqdm(images, total=len(list(images))):\n",
    "    curr_dir = dir()\n",
    "    cam_list = [\n",
    "    [\"gradcam\", GradCAM(model=model, target_layers=target_layers)],\n",
    "    [\"gradcampp\", GradCAMPlusPlus(model=model, target_layers=target_layers)],\n",
    "    [\"xgradcam\", XGradCAM(model=model, target_layers=target_layers)],\n",
    "    [\"eigencam\", EigenCAM(model=model, target_layers=target_layers)],\n",
    "    [\"fullgrad\", FullGrad(model=model, target_layers=target_layers)]]\n",
    "    \n",
    "    bn = os.path.basename(im_fn)\n",
    "    cat = fl_dict[im_fn.split(\"/\")[-2]]\n",
    "    \n",
    "    img = Image.open(im_fn)\n",
    "    img_t = get_input_tensors(img)\n",
    "    test_img = np.array(img.resize((600, 600)), dtype='float32')\n",
    "    test_img /= 255\n",
    "\n",
    "    targets = [ClassifierOutputTarget(cat)]\n",
    "    \n",
    "    for cam_str, cam_method in cam_list:\n",
    "        grayscale_cam = cam_method(input_tensor=img_t, targets=targets)\n",
    "        grayscale_cam = grayscale_cam[0, :]\n",
    "\n",
    "        visualization = show_cam_on_image(test_img, grayscale_cam, use_rgb=True)\n",
    "        plt.imshow(visualization)\n",
    "        if not os.path.exists(f\"outs/{out_path}/{cam_str}/{bn}\"):\n",
    "            try:\n",
    "\n",
    "                plt.savefig(f\"outs/{out_path}/{cam_str}/{bn}\")\n",
    "            except FileNotFoundError:\n",
    "                os.makedirs(f\"outs/{out_path}/{cam_str}/\")\n",
    "            plt.close()\n",
    "        \n",
    "        del grayscale_cam\n",
    "        \n",
    "    for name in dir():\n",
    "        if name not in curr_dir and name != \"curr_dir\":\n",
    "            del globals()[name]"
   ]
  },
  {
   "cell_type": "code",
   "execution_count": null,
   "id": "f2e2f43d",
   "metadata": {},
   "outputs": [],
   "source": [
    "cam_str = \"scorecam\"\n",
    "cam_method = ScoreCAM(model=model, target_layers=target_layers)\n",
    "\n",
    "for im_fn in tqdm(images, total=len(list(images))):\n",
    "    curr_dir = dir()\n",
    "    \n",
    "    bn = os.path.basename(im_fn)\n",
    "    cat = fl_dict[im_fn.split(\"/\")[-2]]\n",
    "    \n",
    "    img = Image.open(im_fn)\n",
    "    img_t = get_input_tensors(img)\n",
    "    test_img = np.array(img.resize((224, 224)), dtype='float32')\n",
    "    test_img /= 255\n",
    "\n",
    "    targets = [ClassifierOutputTarget(cat)]\n",
    "    \n",
    "    grayscale_cam = cam_method(input_tensor=img_t, targets=targets)\n",
    "    grayscale_cam = grayscale_cam[0, :]\n",
    "\n",
    "    visualization = show_cam_on_image(test_img, grayscale_cam, use_rgb=True)\n",
    "    plt.imshow(visualization)\n",
    "    if not os.path.exists(f\"outs/{out_path}/{cam_str}/{bn}\"):\n",
    "        try:\n",
    "\n",
    "            plt.savefig(f\"outs/{out_path}/{cam_str}/{bn}\")\n",
    "        except FileNotFoundError:\n",
    "            os.makedirs(f\"outs/{out_path}/{cam_str}/\")\n",
    "        plt.close()\n",
    "\n",
    "    del grayscale_cam\n",
    "\n",
    "    for name in dir():\n",
    "        if name not in curr_dir and name != \"curr_dir\":\n",
    "            del globals()[name]"
   ]
  },
  {
   "cell_type": "code",
   "execution_count": null,
   "id": "57a2d937",
   "metadata": {},
   "outputs": [],
   "source": [
    "cam_str = \"ablationcam\"\n",
    "cam_method = AblationCAM(model=model, target_layers=target_layers)\n",
    "\n",
    "for im_fn in tqdm(images, total=len(list(images))):\n",
    "    curr_dir = dir()\n",
    "    \n",
    "    bn = os.path.basename(im_fn)\n",
    "    cat = fl_dict[im_fn.split(\"/\")[-2]]\n",
    "    \n",
    "    img = Image.open(im_fn)\n",
    "    img_t = get_input_tensors(img)\n",
    "    test_img = np.array(img.resize((224, 224)), dtype='float32')\n",
    "    test_img /= 255\n",
    "\n",
    "    targets = [ClassifierOutputTarget(cat)]\n",
    "    \n",
    "    grayscale_cam = cam_method(input_tensor=img_t, targets=targets)\n",
    "    grayscale_cam = grayscale_cam[0, :]\n",
    "\n",
    "    visualization = show_cam_on_image(test_img, grayscale_cam, use_rgb=True)\n",
    "    plt.imshow(visualization)\n",
    "    if not os.path.exists(f\"outs/{out_path}/{cam_str}/{bn}\"):\n",
    "        try:\n",
    "\n",
    "            plt.savefig(f\"outs/{out_path}/{cam_str}/{bn}\")\n",
    "        except FileNotFoundError:\n",
    "            os.makedirs(f\"outs/{out_path}/{cam_str}/\")\n",
    "        plt.close()\n",
    "\n",
    "    del grayscale_cam\n",
    "\n",
    "    for name in dir():\n",
    "        if name not in curr_dir and name != \"curr_dir\":\n",
    "            del globals()[name]"
   ]
  },
  {
   "cell_type": "code",
   "execution_count": null,
   "id": "3631a920",
   "metadata": {},
   "outputs": [],
   "source": []
  }
 ],
 "metadata": {
  "kernelspec": {
   "display_name": "Python 3 (ipykernel)",
   "language": "python",
   "name": "python3"
  },
  "language_info": {
   "codemirror_mode": {
    "name": "ipython",
    "version": 3
   },
   "file_extension": ".py",
   "mimetype": "text/x-python",
   "name": "python",
   "nbconvert_exporter": "python",
   "pygments_lexer": "ipython3",
   "version": "3.10.5"
  }
 },
 "nbformat": 4,
 "nbformat_minor": 5
}
