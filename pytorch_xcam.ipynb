{
 "cells": [
  {
   "cell_type": "code",
   "execution_count": null,
   "id": "aa285374",
   "metadata": {},
   "outputs": [],
   "source": [
    "from pytorch_grad_cam import GradCAM, ScoreCAM, GradCAMPlusPlus, AblationCAM, XGradCAM, EigenCAM, FullGrad\n",
    "from pytorch_grad_cam.utils.model_targets import ClassifierOutputTarget\n",
    "from pytorch_grad_cam.utils.image import show_cam_on_image\n",
    "\n",
    "import matplotlib.pyplot as plt\n",
    "from PIL import Image\n",
    "import torch.nn as nn\n",
    "import numpy as np\n",
    "import os, json\n",
    "from glob import glob\n",
    "from tqdm.notebook import tqdm\n",
    "from joblib import Parallel, delayed\n",
    "\n",
    "import torch\n",
    "from torchvision import models, transforms\n",
    "from torch.autograd import Variable\n",
    "import torch.nn.functional as F\n",
    "\n",
    "import timm\n"
   ]
  },
  {
   "cell_type": "code",
   "execution_count": null,
   "id": "a41c3e69",
   "metadata": {},
   "outputs": [],
   "source": [
    "def get_input_transform():\n",
    "    normalize = transforms.Normalize(mean=[0.485, 0.456, 0.406],\n",
    "                                    std=[0.229, 0.224, 0.225])       \n",
    "    transf = transforms.Compose([\n",
    "        transforms.Resize((256, 256)),\n",
    "        transforms.CenterCrop(224),\n",
    "        transforms.ToTensor(),\n",
    "        normalize\n",
    "    ])    \n",
    "\n",
    "    return transf\n",
    "\n",
    "def get_input_tensors(img):\n",
    "    transf = get_input_transform()\n",
    "    return transf(img).unsqueeze(0)"
   ]
  },
  {
   "cell_type": "code",
   "execution_count": null,
   "id": "7541f09b",
   "metadata": {},
   "outputs": [],
   "source": [
    "ckpt_fn = \"models/orig_20220627-235055-seresnext50_32x4d-224/last.pth.tar\"\n",
    "im_path = \"data/orig_o\"\n",
    "\n",
    "fl_dict = {}\n",
    "for idx, fl in enumerate(glob(f\"{im_path}/*\")):\n",
    "    bn = os.path.basename(fl)\n",
    "    fl_dict[bn] = idx"
   ]
  },
  {
   "cell_type": "code",
   "execution_count": null,
   "id": "c69d95e2",
   "metadata": {},
   "outputs": [],
   "source": [
    "ckpt_fn = \"models/planted_20220627-235814-seresnext50_32x4d-224/last.pth.tar\"\n",
    "im_path = \"data/pl_o\"\n",
    "out_path = \"pl_pl\"\n",
    "\n",
    "fl_dict = {}\n",
    "for idx, fl in enumerate(glob(f\"{im_path}/*\")):\n",
    "    bn = os.path.basename(fl)\n",
    "    fl_dict[bn] = idx"
   ]
  },
  {
   "cell_type": "code",
   "execution_count": null,
   "id": "206c0fbf",
   "metadata": {},
   "outputs": [],
   "source": [
    "model = timm.create_model(\n",
    "        'seresnext50_32x4d',\n",
    "        num_classes=300,\n",
    "        in_chans=3,\n",
    "        pretrained=True,\n",
    "        checkpoint_path=ckpt_fn)\n",
    "\n",
    "target_layers = model.layer4\n",
    "\n",
    "images = glob(f\"{im_path}/**/*.*\", recursive=True)"
   ]
  },
  {
   "cell_type": "code",
   "execution_count": null,
   "id": "22ce1362",
   "metadata": {},
   "outputs": [],
   "source": [
    "cam = GradCAM(model=model, target_layers=target_layers)\n",
    "eig = EigenCAM(model=model, target_layers=target_layers)\n",
    "def process(im_fn, fl_dict):\n",
    "    bn = os.path.basename(im_fn)\n",
    "    cat = fl_dict[im_fn.split(\"/\")[-2]]\n",
    "    \n",
    "    img = Image.open(im_fn)\n",
    "    img_t = get_input_tensors(img)\n",
    "    test_img = np.array(img.resize((224, 224)), dtype='float32')\n",
    "    test_img /= 255\n",
    "\n",
    "    targets = [ClassifierOutputTarget(cat)]\n",
    "\n",
    "    grayscale_cam = cam(input_tensor=img_t, targets=targets)\n",
    "    grayscale_cam = grayscale_cam[0, :]\n",
    "\n",
    "    visualization = show_cam_on_image(test_img, grayscale_cam, use_rgb=True)\n",
    "    plt.imshow(visualization)\n",
    "    try:\n",
    "        plt.savefig(f\"outs/{out_path}/gradcam/{bn}\")\n",
    "    except FileNotFoundError:\n",
    "        os.makedirs(f\"outs/{out_path}/gradcam/\")\n",
    "    plt.clf()\n",
    "    \n",
    "    grayscale_eig = eig(input_tensor=img_t, targets=targets)\n",
    "    grayscale_eig = grayscale_eig[0, :]\n",
    "\n",
    "    visualization = show_cam_on_image(test_img, grayscale_eig, use_rgb=True)\n",
    "    plt.imshow(visualization)\n",
    "    try:\n",
    "        plt.savefig(f\"outs/{out_path}/eigencam/{bn}\")\n",
    "    except FileNotFoundError:\n",
    "        os.makedirs(f\"outs/{out_path}/eigencam/\")\n",
    "    plt.clf()\n",
    "    \n",
    "Parallel(n_jobs=8)(delayed(process)(im_fn, fl_dict) for im_fn in tqdm(images, total=len(list(images))))"
   ]
  },
  {
   "cell_type": "code",
   "execution_count": null,
   "id": "6da50bac",
   "metadata": {},
   "outputs": [],
   "source": [
    "abl = AblationCAM(model=model, target_layers=target_layers)\n",
    "for im_fn in tqdm(images, total=len(list(images))):\n",
    "    bn = os.path.basename(im_fn)\n",
    "    cat = fl_dict[im_fn.split(\"/\")[-2]]\n",
    "    \n",
    "    img = Image.open(im_fn)\n",
    "    img_t = get_input_tensors(img)\n",
    "    test_img = np.array(img.resize((224, 224)), dtype='float32')\n",
    "    test_img /= 255\n",
    "\n",
    "    targets = [ClassifierOutputTarget(cat)]\n",
    "    \n",
    "    grayscale_abl = abl(input_tensor=img_t, targets=targets)\n",
    "    grayscale_abl = grayscale_abl[0, :]\n",
    "\n",
    "    visualization = show_cam_on_image(test_img, grayscale_abl, use_rgb=True)\n",
    "    plt.imshow(visualization)\n",
    "    plt.savefig(f\"outs/o_o/ablationcam/{bn}\")\n",
    "    plt.clf()"
   ]
  },
  {
   "cell_type": "code",
   "execution_count": null,
   "id": "e76a441e",
   "metadata": {},
   "outputs": [],
   "source": []
  }
 ],
 "metadata": {
  "kernelspec": {
   "display_name": "Python 3 (ipykernel)",
   "language": "python",
   "name": "python3"
  },
  "language_info": {
   "codemirror_mode": {
    "name": "ipython",
    "version": 3
   },
   "file_extension": ".py",
   "mimetype": "text/x-python",
   "name": "python",
   "nbconvert_exporter": "python",
   "pygments_lexer": "ipython3",
   "version": "3.10.5"
  }
 },
 "nbformat": 4,
 "nbformat_minor": 5
}
