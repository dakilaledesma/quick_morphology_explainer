{
 "cells": [
  {
   "cell_type": "code",
   "execution_count": 29,
   "id": "58d24a9b",
   "metadata": {},
   "outputs": [],
   "source": [
    "from PIL import Image\n",
    "from glob import glob\n",
    "from collections import defaultdict\n",
    "import os\n",
    "import numpy as np\n",
    "from tqdm.notebook import tqdm"
   ]
  },
  {
   "cell_type": "code",
   "execution_count": 2,
   "id": "f3380715",
   "metadata": {},
   "outputs": [],
   "source": [
    "out_folder = \"outs/o_o\"\n",
    "method_folders = glob(f\"{out_folder}/*\")"
   ]
  },
  {
   "cell_type": "code",
   "execution_count": 3,
   "id": "b5dc9390",
   "metadata": {},
   "outputs": [
    {
     "name": "stdout",
     "output_type": "stream",
     "text": [
      "['outs/o_o/eigencam', 'outs/o_o/gradcam', 'outs/o_o/xgradcam', 'outs/o_o/gradcampp', 'outs/o_o/fullgrad']\n"
     ]
    }
   ],
   "source": [
    "print(method_folders)"
   ]
  },
  {
   "cell_type": "code",
   "execution_count": 4,
   "id": "d2695fb0",
   "metadata": {},
   "outputs": [],
   "source": [
    "method_ims = defaultdict(dict)\n",
    "for method_folder in method_folders:\n",
    "    method = method_folder.split(\"/\")[-1]\n",
    "    for image_fn in glob(f\"{method_folder}/*.*\"):\n",
    "        bn = os.path.basename(image_fn)\n",
    "        method_ims[method][bn] = np.array(Image.open(image_fn))"
   ]
  },
  {
   "cell_type": "code",
   "execution_count": 40,
   "id": "aa63d6c8",
   "metadata": {},
   "outputs": [
    {
     "data": {
      "application/vnd.jupyter.widget-view+json": {
       "model_id": "c990deb3e51c4c5d8c7f946bd137946f",
       "version_major": 2,
       "version_minor": 0
      },
      "text/plain": [
       "  0%|          | 0/4577 [00:00<?, ?it/s]"
      ]
     },
     "metadata": {},
     "output_type": "display_data"
    }
   ],
   "source": [
    "method_diffs = defaultdict(float)\n",
    "for bn in tqdm(list(method_ims[\"gradcam\"].keys())):\n",
    "    current_ims = {}\n",
    "    for method in method_ims:\n",
    "        current_ims[f\"{method}_{bn}\"] = method_ims[method][bn]\n",
    "    \n",
    "    pairs = []\n",
    "    for im_f, im in current_ims.items():\n",
    "        for im2_f, im2 in current_ims.items():\n",
    "            for pair in pairs:\n",
    "                if im_f in pair and im2_f in pair:\n",
    "                    break\n",
    "            else:\n",
    "                pairs.append((im_f, im2_f))\n",
    "                im, im2 = np.array(im, dtype='float32'), np.array(im2, dtype='float32')\n",
    "                # print(f\"{im_f} - {im2_f}\", np.sum(np.abs(im - im2)))\n",
    "                difference = np.sum(np.abs(im - im2))\n",
    "                method_diffs[im_f.split('_')[0]] += difference\n",
    "                method_diffs[im2_f.split('_')[0]] += difference             "
   ]
  },
  {
   "cell_type": "code",
   "execution_count": 41,
   "id": "a6f41db5",
   "metadata": {},
   "outputs": [
    {
     "name": "stdout",
     "output_type": "stream",
     "text": [
      "fullgrad: 93880160989.0\n",
      "gradcampp: 81532256940.0\n",
      "xgradcam: 81326763854.0\n",
      "gradcam: 80688737703.0\n",
      "eigencam: 78654802946.0\n"
     ]
    }
   ],
   "source": [
    "method_diffs = dict(sorted(method_diffs.items(), key=lambda x: x[1], reverse=True))\n",
    "for k, v in method_diffs.items():\n",
    "    print(f\"{k}: {v}\")"
   ]
  },
  {
   "cell_type": "code",
   "execution_count": null,
   "id": "fdd8e29e",
   "metadata": {},
   "outputs": [],
   "source": []
  }
 ],
 "metadata": {
  "kernelspec": {
   "display_name": "Python 3 (ipykernel)",
   "language": "python",
   "name": "python3"
  },
  "language_info": {
   "codemirror_mode": {
    "name": "ipython",
    "version": 3
   },
   "file_extension": ".py",
   "mimetype": "text/x-python",
   "name": "python",
   "nbconvert_exporter": "python",
   "pygments_lexer": "ipython3",
   "version": "3.10.5"
  }
 },
 "nbformat": 4,
 "nbformat_minor": 5
}
