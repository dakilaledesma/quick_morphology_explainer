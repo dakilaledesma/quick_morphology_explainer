{
  "nbformat": 4,
  "nbformat_minor": 0,
  "metadata": {
    "colab": {
      "name": "[Summer] S2D_FullGrad",
      "provenance": [],
      "mount_file_id": "1oPUq7XptxoZFuZEYJdDxVkkdYmpvPQBu",
      "authorship_tag": "ABX9TyNtRR2UnVtR8dHe73LFFmCX",
      "include_colab_link": true
    },
    "kernelspec": {
      "name": "python3",
      "display_name": "Python 3"
    },
    "language_info": {
      "name": "python"
    },
    "accelerator": "GPU",
    "gpuClass": "standard"
  },
  "cells": [
    {
      "cell_type": "markdown",
      "metadata": {
        "id": "view-in-github",
        "colab_type": "text"
      },
      "source": [
        "<a href=\"https://colab.research.google.com/github/dakilaledesma/quick_morphology_explainer/blob/main/colab_notebooks/S2D_FullGrad.ipynb\" target=\"_parent\"><img src=\"https://colab.research.google.com/assets/colab-badge.svg\" alt=\"Open In Colab\"/></a>"
      ]
    },
    {
      "cell_type": "code",
      "execution_count": 1,
      "metadata": {
        "colab": {
          "base_uri": "https://localhost:8080/"
        },
        "id": "xYZCZS7ynwsR",
        "outputId": "de535350-b1e8-4886-aef3-50db28d61878"
      },
      "outputs": [
        {
          "output_type": "stream",
          "name": "stdout",
          "text": [
            "CPU times: user 90.7 ms, sys: 23.3 ms, total: 114 ms\n",
            "Wall time: 17 s\n"
          ]
        }
      ],
      "source": [
        "%%time\n",
        "! unzip -q drive/MyDrive/UNC/H2022/orchidaceae_test.zip -d /content/"
      ]
    },
    {
      "cell_type": "code",
      "source": [
        "! pip install timm grad-cam tqdm"
      ],
      "metadata": {
        "colab": {
          "base_uri": "https://localhost:8080/"
        },
        "id": "_fC0ADXaoCdH",
        "outputId": "94e428ff-9044-44b5-a614-85b280487b2f"
      },
      "execution_count": 2,
      "outputs": [
        {
          "output_type": "stream",
          "name": "stdout",
          "text": [
            "Looking in indexes: https://pypi.org/simple, https://us-python.pkg.dev/colab-wheels/public/simple/\n",
            "Collecting timm\n",
            "  Downloading timm-0.6.7-py3-none-any.whl (509 kB)\n",
            "\u001b[K     |████████████████████████████████| 509 kB 4.2 MB/s \n",
            "\u001b[?25hCollecting grad-cam\n",
            "  Downloading grad-cam-1.4.0.tar.gz (23.0 MB)\n",
            "\u001b[K     |████████████████████████████████| 23.0 MB 1.5 MB/s \n",
            "\u001b[?25h  Installing build dependencies ... \u001b[?25l\u001b[?25hdone\n",
            "  Getting requirements to build wheel ... \u001b[?25l\u001b[?25hdone\n",
            "    Preparing wheel metadata ... \u001b[?25l\u001b[?25hdone\n",
            "Requirement already satisfied: tqdm in /usr/local/lib/python3.7/dist-packages (4.64.0)\n",
            "Requirement already satisfied: torchvision in /usr/local/lib/python3.7/dist-packages (from timm) (0.13.0+cu113)\n",
            "Requirement already satisfied: torch>=1.4 in /usr/local/lib/python3.7/dist-packages (from timm) (1.12.0+cu113)\n",
            "Requirement already satisfied: typing-extensions in /usr/local/lib/python3.7/dist-packages (from torch>=1.4->timm) (4.1.1)\n",
            "Requirement already satisfied: opencv-python in /usr/local/lib/python3.7/dist-packages (from grad-cam) (4.6.0.66)\n",
            "Requirement already satisfied: Pillow in /usr/local/lib/python3.7/dist-packages (from grad-cam) (7.1.2)\n",
            "Collecting ttach\n",
            "  Downloading ttach-0.0.3-py3-none-any.whl (9.8 kB)\n",
            "Requirement already satisfied: numpy in /usr/local/lib/python3.7/dist-packages (from grad-cam) (1.21.6)\n",
            "Requirement already satisfied: requests in /usr/local/lib/python3.7/dist-packages (from torchvision->timm) (2.23.0)\n",
            "Requirement already satisfied: certifi>=2017.4.17 in /usr/local/lib/python3.7/dist-packages (from requests->torchvision->timm) (2022.6.15)\n",
            "Requirement already satisfied: urllib3!=1.25.0,!=1.25.1,<1.26,>=1.21.1 in /usr/local/lib/python3.7/dist-packages (from requests->torchvision->timm) (1.24.3)\n",
            "Requirement already satisfied: idna<3,>=2.5 in /usr/local/lib/python3.7/dist-packages (from requests->torchvision->timm) (2.10)\n",
            "Requirement already satisfied: chardet<4,>=3.0.2 in /usr/local/lib/python3.7/dist-packages (from requests->torchvision->timm) (3.0.4)\n",
            "Building wheels for collected packages: grad-cam\n",
            "  Building wheel for grad-cam (PEP 517) ... \u001b[?25l\u001b[?25hdone\n",
            "  Created wheel for grad-cam: filename=grad_cam-1.4.0-py3-none-any.whl size=28155 sha256=dd33dfb0864fa88ccbfdda791190a1fb6b89b15433a2f4807c7a9102028678ac\n",
            "  Stored in directory: /root/.cache/pip/wheels/a5/dd/4c/8a6ae2754b8c2fa442c78ce0eee39c14dc8e21cb3d27604ec2\n",
            "Successfully built grad-cam\n",
            "Installing collected packages: ttach, timm, grad-cam\n",
            "Successfully installed grad-cam-1.4.0 timm-0.6.7 ttach-0.0.3\n"
          ]
        }
      ]
    },
    {
      "cell_type": "code",
      "source": [
        "from pytorch_grad_cam import GradCAM, ScoreCAM, GradCAMPlusPlus, AblationCAM, XGradCAM, EigenCAM, FullGrad\n",
        "from pytorch_grad_cam.utils.model_targets import ClassifierOutputTarget\n",
        "from pytorch_grad_cam.utils.image import show_cam_on_image\n",
        "\n",
        "import matplotlib.pyplot as plt\n",
        "from PIL import Image\n",
        "import torch.nn as nn\n",
        "import numpy as np\n",
        "import os, json\n",
        "from glob import glob\n",
        "from tqdm.notebook import tqdm\n",
        "\n",
        "import torch\n",
        "from torchvision import models, transforms\n",
        "from torch.autograd import Variable\n",
        "import torch.nn.functional as F\n",
        "\n",
        "import timm"
      ],
      "metadata": {
        "id": "zJL1XVOwoFKI"
      },
      "execution_count": 3,
      "outputs": []
    },
    {
      "cell_type": "code",
      "source": [
        "torch.backends.cudnn.enabled = False"
      ],
      "metadata": {
        "id": "r0pA4_TapV7z"
      },
      "execution_count": 4,
      "outputs": []
    },
    {
      "cell_type": "code",
      "source": [
        "def get_input_transform():\n",
        "    normalize = transforms.Normalize(mean=[0.485, 0.456, 0.406],\n",
        "                                    std=[0.229, 0.224, 0.225])       \n",
        "    transf = transforms.Compose([\n",
        "        transforms.Resize((600, 600)),\n",
        "        transforms.ToTensor(),\n",
        "        normalize\n",
        "    ])    \n",
        "\n",
        "    return transf\n",
        "\n",
        "def get_input_tensors(img):\n",
        "    transf = get_input_transform()\n",
        "    return transf(img).unsqueeze(0)"
      ],
      "metadata": {
        "id": "BeK5WmojoOkj"
      },
      "execution_count": 5,
      "outputs": []
    },
    {
      "cell_type": "code",
      "source": [
        "ckpt_fn = \"drive/MyDrive/UNC/H2022/output/20220722-163041-sequencer2d_l-600/last.pth.tar\"\n",
        "im_path = \"orchidaceae_test\"\n",
        "out_path = \"resolution/600_s2d\"\n",
        "model_type = \"sequencer2d_l\"\n",
        "\n",
        "fl_dict = {}\n",
        "for idx, fl in enumerate(glob(f\"{im_path}/*\")):\n",
        "    bn = os.path.basename(fl)\n",
        "    fl_dict[bn] = idx\n",
        "    \n",
        "images = []\n",
        "for im_fn in glob(f\"{im_path}/**/*.*\", recursive=True):\n",
        "    bn = os.path.basename(im_fn)\n",
        "    images.append(im_fn)\n",
        "    \n",
        "print(len(images))"
      ],
      "metadata": {
        "colab": {
          "base_uri": "https://localhost:8080/"
        },
        "id": "cvOXwY1koQ_R",
        "outputId": "50f5ec1b-75a9-4bdb-e6fc-7dc702cc8971"
      },
      "execution_count": 6,
      "outputs": [
        {
          "output_type": "stream",
          "name": "stdout",
          "text": [
            "4577\n"
          ]
        }
      ]
    },
    {
      "cell_type": "code",
      "source": [
        "model = timm.create_model(\n",
        "        model_type,\n",
        "        num_classes=300,\n",
        "        in_chans=3,\n",
        "        checkpoint_path=ckpt_fn)"
      ],
      "metadata": {
        "id": "IzsqOXkqotdq"
      },
      "execution_count": null,
      "outputs": []
    },
    {
      "cell_type": "code",
      "source": [
        "for im_fn in tqdm(images, total=len(list(images))):\n",
        "    curr_dir = dir()\n",
        "    cam_list = [[\"fullgrad\", FullGrad(model=model, target_layers=[], use_cuda=True)]]\n",
        "    \n",
        "    bn = os.path.basename(im_fn)\n",
        "    cat = fl_dict[im_fn.split(\"/\")[-2]]\n",
        "    \n",
        "    img = Image.open(im_fn)\n",
        "    img_t = get_input_tensors(img)\n",
        "    test_img = np.array(img.resize((600, 600)), dtype='float32')\n",
        "    test_img /= 255\n",
        "\n",
        "    targets = [ClassifierOutputTarget(cat)]\n",
        "    \n",
        "    for cam_str, cam_method in cam_list:\n",
        "        grayscale_cam = cam_method(input_tensor=img_t, targets=targets)\n",
        "        grayscale_cam = grayscale_cam[0, :]\n",
        "\n",
        "        visualization = show_cam_on_image(test_img, grayscale_cam, use_rgb=True)\n",
        "        plt.imshow(visualization)\n",
        "        if not os.path.exists(f\"outs/{out_path}/{cam_str}/{bn}\"):\n",
        "            try:\n",
        "\n",
        "                plt.savefig(f\"outs/{out_path}/{cam_str}/{bn}\")\n",
        "            except FileNotFoundError:\n",
        "                os.makedirs(f\"outs/{out_path}/{cam_str}/\")\n",
        "            plt.close()\n",
        "        \n",
        "        del grayscale_cam\n",
        "        \n",
        "    for name in dir():\n",
        "        if name not in curr_dir and name != \"curr_dir\":\n",
        "            del globals()[name]"
      ],
      "metadata": {
        "id": "3R6pxWgbogpG"
      },
      "execution_count": null,
      "outputs": []
    },
    {
      "cell_type": "code",
      "source": [
        "! zip -q -r -0 s2d_outs.zip outs/"
      ],
      "metadata": {
        "id": "idpsZp33oqZf"
      },
      "execution_count": null,
      "outputs": []
    },
    {
      "cell_type": "code",
      "source": [
        "! mv s2d_outs.zip /content/drive/MyDrive/UNC/S2022P/s2d_outs.zip"
      ],
      "metadata": {
        "id": "jm3rvBRKqiEp"
      },
      "execution_count": null,
      "outputs": []
    },
    {
      "cell_type": "code",
      "source": [
        ""
      ],
      "metadata": {
        "id": "uyrKT3imq-bv"
      },
      "execution_count": null,
      "outputs": []
    }
  ]
}